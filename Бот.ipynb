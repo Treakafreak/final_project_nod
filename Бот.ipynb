{
 "cells": [
  {
   "cell_type": "markdown",
   "id": "b2e42a40",
   "metadata": {},
   "source": [
    "# Привет! Этот бот генерирует рандомные факты о здравоохранении. Запусти ячейку ниже"
   ]
  },
  {
   "cell_type": "code",
   "execution_count": 72,
   "id": "da8e7e36",
   "metadata": {
    "scrolled": true
   },
   "outputs": [
    {
     "name": "stdout",
     "output_type": "stream",
     "text": [
      "\u001b[33mWARNING: Skipping telebot as it is not installed.\u001b[0m\n",
      "Note: you may need to restart the kernel to use updated packages.\n",
      "Found existing installation: pyTelegramBotAPI 4.5.1\n",
      "Uninstalling pyTelegramBotAPI-4.5.1:\n",
      "  Successfully uninstalled pyTelegramBotAPI-4.5.1\n",
      "Note: you may need to restart the kernel to use updated packages.\n",
      "Collecting pyTelegramBotAPI\n",
      "  Using cached pyTelegramBotAPI-4.5.1-py3-none-any.whl\n",
      "Requirement already satisfied: requests in ./opt/anaconda3/lib/python3.9/site-packages (from pyTelegramBotAPI) (2.28.0)\n",
      "Requirement already satisfied: urllib3<1.27,>=1.21.1 in ./opt/anaconda3/lib/python3.9/site-packages (from requests->pyTelegramBotAPI) (1.26.7)\n",
      "Requirement already satisfied: certifi>=2017.4.17 in ./opt/anaconda3/lib/python3.9/site-packages (from requests->pyTelegramBotAPI) (2021.10.8)\n",
      "Requirement already satisfied: idna<4,>=2.5 in ./opt/anaconda3/lib/python3.9/site-packages (from requests->pyTelegramBotAPI) (3.2)\n",
      "Requirement already satisfied: charset-normalizer~=2.0.0 in ./opt/anaconda3/lib/python3.9/site-packages (from requests->pyTelegramBotAPI) (2.0.4)\n",
      "Installing collected packages: pyTelegramBotAPI\n",
      "Successfully installed pyTelegramBotAPI-4.5.1\n",
      "Note: you may need to restart the kernel to use updated packages.\n",
      "Requirement already satisfied: pyTelegramBotAPI in ./opt/anaconda3/lib/python3.9/site-packages (4.5.1)\n",
      "Requirement already satisfied: requests in ./opt/anaconda3/lib/python3.9/site-packages (from pyTelegramBotAPI) (2.28.0)\n",
      "Requirement already satisfied: certifi>=2017.4.17 in ./opt/anaconda3/lib/python3.9/site-packages (from requests->pyTelegramBotAPI) (2021.10.8)\n",
      "Requirement already satisfied: charset-normalizer~=2.0.0 in ./opt/anaconda3/lib/python3.9/site-packages (from requests->pyTelegramBotAPI) (2.0.4)\n",
      "Requirement already satisfied: urllib3<1.27,>=1.21.1 in ./opt/anaconda3/lib/python3.9/site-packages (from requests->pyTelegramBotAPI) (1.26.7)\n",
      "Requirement already satisfied: idna<4,>=2.5 in ./opt/anaconda3/lib/python3.9/site-packages (from requests->pyTelegramBotAPI) (3.2)\n",
      "Note: you may need to restart the kernel to use updated packages.\n"
     ]
    }
   ],
   "source": [
    "%pip uninstall telebot --yes\n",
    "%pip uninstall PyTelegramBotAPI --yes\n",
    "%pip install pyTelegramBotAPI\n",
    "%pip install --upgrade pyTelegramBotAPI"
   ]
  },
  {
   "cell_type": "markdown",
   "id": "9914c452",
   "metadata": {},
   "source": [
    "Теперь эту ниже. Она не завершится, то есть будет вот такой символ [*] все ок так и надо. Просто перейди по ссылке и наслаждайся: https://t.me/fascinating_health_data_bot"
   ]
  },
  {
   "cell_type": "code",
   "execution_count": 13,
   "id": "87ac30ec",
   "metadata": {},
   "outputs": [],
   "source": [
    "import telebot\n",
    "from telebot import types\n",
    "import wbgapi as wb\n",
    "import pandas as pd\n",
    "import random\n",
    "import numpy as np\n",
    "\n",
    "countries=wb.economy.Series().reset_index()['index']\n",
    "datasets=list(wb.topic.members(8))\n",
    "\n",
    "bot = telebot.TeleBot('5525711851:AAH_6yX_z5Hiqr6D4A4MZU3_XFZvfJZflQM')\n",
    "@bot.message_handler(commands=[\"start\"])\n",
    "def start(m, res=False):\n",
    "    bot.send_message(m.chat.id, 'Привет! Напиши: Факт')\n",
    "    knopki.add(facts)\n",
    "    knopki.add(corr)\n",
    "@bot.message_handler(content_types=[\"text\"])\n",
    "def handle_text(message):\n",
    "    a=True\n",
    "    if message.text.strip() == 'Факт' :\n",
    "        while a:\n",
    "            country=countries[random.randint(0, len(countries))]\n",
    "            dataset=datasets[random.randint(0, len(datasets))]\n",
    "            year=random.randint(2000,2020)\n",
    "            try: \n",
    "                x=wb.data.DataFrame(dataset,country, time=year)\n",
    "                if (not np.isnan(x.iloc[0,0])) and (str(x.iloc[0,0])!='nan'):\n",
    "                    a=False\n",
    "            except JSONDecodeError:\n",
    "                continue \n",
    "        answer = 'In '+wb.economy.Series()[country]+' in '+str(year)+' the '+ wb.series.Series(dataset)[0] +' was '+str(x.iloc[0,0])\n",
    "    else:\n",
    "        answer='Напиши: Факт'\n",
    "    bot.send_message(message.chat.id, answer)\n",
    "    \n",
    "bot.polling(none_stop=True, interval=0)"
   ]
  }
 ],
 "metadata": {
  "kernelspec": {
   "display_name": "Python 3 (ipykernel)",
   "language": "python",
   "name": "python3"
  },
  "language_info": {
   "codemirror_mode": {
    "name": "ipython",
    "version": 3
   },
   "file_extension": ".py",
   "mimetype": "text/x-python",
   "name": "python",
   "nbconvert_exporter": "python",
   "pygments_lexer": "ipython3",
   "version": "3.9.7"
  }
 },
 "nbformat": 4,
 "nbformat_minor": 5
}
